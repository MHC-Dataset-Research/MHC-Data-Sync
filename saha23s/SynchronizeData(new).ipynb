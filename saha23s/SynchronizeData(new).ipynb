{
  "cells": [
    {
      "cell_type": "markdown",
      "source": [
        "This is a refactored version(by Sulagna) of [this code](https://github.com/MHC-Dataset-Research/MHC-Data-Sync/blob/main/picke23a/SynchonizeData.ipynb) (contributed by Anna). To read detail description of what's being done, check it out.\n"
      ],
      "metadata": {
        "id": "95GR4cWzSc1o"
      }
    },
    {
      "cell_type": "code",
      "execution_count": null,
      "metadata": {
        "colab": {
          "base_uri": "https://localhost:8080/"
        },
        "id": "_qNBVQOesQdB",
        "outputId": "1f648273-b3bd-462b-c7c2-60ffc1b984aa"
      },
      "outputs": [
        {
          "output_type": "stream",
          "name": "stdout",
          "text": [
            "Drive already mounted at /content/drive; to attempt to forcibly remount, call drive.mount(\"/content/drive\", force_remount=True).\n"
          ]
        }
      ],
      "source": [
        "# working with google drive\n",
        "from google.colab import drive\n",
        "drive.mount('/content/drive')"
      ]
    },
    {
      "cell_type": "code",
      "execution_count": null,
      "metadata": {
        "id": "LrrUhTbBkmC1"
      },
      "outputs": [],
      "source": [
        "import pandas as pd\n",
        "\n",
        "dataset = 'flarp_push_3'\n",
        "# Specify the file paths for the CSV files\n",
        "cam_1_color_path = '/content/drive/MyDrive/MelodyResearch/'+ dataset + '/csvFiles/' + dataset + '-_cam_1_color_image_raw.csv'\n",
        "cam_1_depth_path = '/content/drive/MyDrive/MelodyResearch/' + dataset + '/csvFiles/' + dataset + '-_cam_1_depth_image_raw.csv'\n",
        "cam_1_depth_points_path = '/content/drive/MyDrive/MelodyResearch/' + dataset + '/csvFiles/' + dataset + '-_cam_1_depth_points.csv'\n",
        "cam_2_color_path = '/content/drive/MyDrive/MelodyResearch/' + dataset + '/csvFiles/' + dataset + '-_cam_2_color_image_raw.csv'\n",
        "cam_2_depth_path = '/content/drive/MyDrive/MelodyResearch/' + dataset + '/csvFiles/' + dataset + '-_cam_2_depth_image_rect_raw.csv'\n",
        "base_feedback_path = '/content/drive/MyDrive/MelodyResearch/' + dataset + '/csvFiles/' + dataset + '-_my_gen3_base_feedback.csv'"
      ]
    },
    {
      "cell_type": "code",
      "execution_count": null,
      "metadata": {
        "id": "UGb40qTtpqX4"
      },
      "outputs": [],
      "source": [
        "# defining the columns selected from base feedback and image dataset\n",
        "bf_cols = ['%time']\n",
        "\n",
        "# add x, y, z data column information\n",
        "for force in ['field.base.imu_acceleration_', 'field.base.imu_angular_velocity_', 'field.base.tool_pose_','field.base.tool_pose_theta_', 'field.base.tool_twist_linear_', 'field.base.tool_twist_angular_', 'field.base.tool_external_wrench_force_', 'field.base.tool_external_wrench_torque_', 'field.base.commanded_tool_pose_', 'field.base.commanded_tool_pose_theta_', 'field.interconnect.imu_acceleration_', 'field.interconnect.imu_angular_velocity_']:\n",
        "    for dir in ['x', 'y', 'z']: \n",
        "        bf_cols.append(force + dir)\n",
        "\n",
        "# add accuator column information\n",
        "for acc in ['field.actuators0' ,'field.actuators1', 'field.actuators2', 'field.actuators3', 'field.actuators4', 'field.actuators5']:\n",
        "    for force in ['.position', '.velocity', '.torque']:\n",
        "        bf_cols.append(acc + force)\n",
        "\n",
        "# add gripper column information\n",
        "    for force in ['field.interconnect.oneof_tool_feedback.gripper_feedback0.motor0.position', 'field.interconnect.oneof_tool_feedback.gripper_feedback0.motor0.velocity']:\n",
        "        bf_cols.append(force)\n",
        "img_cols = ['%time', 'field.header.seq']"
      ]
    },
    {
      "cell_type": "code",
      "execution_count": null,
      "metadata": {
        "id": "TgaYIiImxotb"
      },
      "outputs": [],
      "source": [
        "# Read the image CSV files into pandas dataframes\n",
        "cam_1_color = pd.read_csv(cam_1_color_path, usecols=img_cols)\n",
        "cam_1_depth = pd.read_csv(cam_1_depth_path, usecols=img_cols)\n",
        "cam_1_depth_points = pd.read_csv(cam_1_depth_points_path, usecols=img_cols)\n",
        "cam_2_color = pd.read_csv(cam_2_color_path, usecols=img_cols)\n",
        "cam_2_depth = pd.read_csv(cam_2_depth_path, usecols=img_cols)"
      ]
    },
    {
      "cell_type": "code",
      "source": [
        "# Read the base feedback CSV files\n",
        "base_feedback = pd.read_csv(base_feedback_path, usecols = bf_cols)"
      ],
      "metadata": {
        "id": "LzZKgUJvxQsO"
      },
      "execution_count": null,
      "outputs": []
    },
    {
      "cell_type": "code",
      "source": [
        "# merging image dataset based on the frame and keeping the earliest time column\n",
        "image_set = [cam_1_color, cam_1_depth, cam_1_depth_points, cam_2_color, cam_2_depth]\n",
        "\n",
        "# Create an empty DataFrame to store the merged dataset\n",
        "merged_data = pd.DataFrame()\n",
        "\n",
        "# Merge the datasets based on image frame number\n",
        "for i in range(len(image_set)):\n",
        "    image_data = image_set[i][['%time', 'field.header.seq']]\n",
        "    if merged_data.empty:\n",
        "        merged_data = image_data\n",
        "    else:\n",
        "        merged_data = pd.merge(merged_data, image_data, on='field.header.seq', suffixes=('', f'_{i+1}'))\n",
        "\n",
        "# Get all the time columns\n",
        "time_columns = [col for col in merged_data.columns if col.startswith('%time')]\n",
        "\n",
        "# Find the earliest start time among all time columns\n",
        "earliest_start_time = merged_data[time_columns].min().min()\n",
        "\n",
        "# Drop the time columns except the one with the earliest start time\n",
        "# Rename the column of earliest time\n",
        "for col in time_columns:\n",
        "    if merged_data[col].min() != earliest_start_time:\n",
        "        merged_data.drop(columns=col, inplace=True)\n",
        "    elif merged_data[col].min() == earliest_start_time:\n",
        "        merged_data.rename(columns={col: '%time'}, inplace=True)\n",
        "        \n",
        "\n",
        "\n",
        "# Reset the index of the merged dataset\n",
        "merged_data.reset_index(drop=True, inplace=True)\n",
        "\n",
        "# Print the merged dataset\n",
        "print(merged_data)\n",
        "\n"
      ],
      "metadata": {
        "colab": {
          "base_uri": "https://localhost:8080/"
        },
        "id": "hUSRzyMm-pGM",
        "outputId": "e74e2d64-3cd9-43d4-a660-8f9586d87822"
      },
      "execution_count": null,
      "outputs": [
        {
          "output_type": "stream",
          "name": "stdout",
          "text": [
            "                   %time  field.header.seq\n",
            "0    1625582778393631832              5294\n",
            "1    1625582778426759549              5295\n",
            "2    1625582778460205001              5296\n",
            "3    1625582778493472124              5297\n",
            "4    1625582778527016824              5298\n",
            "..                   ...               ...\n",
            "494  1625582799298959801              5895\n",
            "495  1625582799299725994              5897\n",
            "496  1625582799300882905              5898\n",
            "497  1625582799325999298              5899\n",
            "498  1625582799359269925              5900\n",
            "\n",
            "[499 rows x 2 columns]\n"
          ]
        }
      ]
    },
    {
      "cell_type": "code",
      "execution_count": null,
      "metadata": {
        "id": "rWbcgiCb2VEl"
      },
      "outputs": [],
      "source": [
        "# Merge all datasets based on nearest timestamps\n",
        "final = merged_data\n",
        "# https://pandas.pydata.org/pandas-docs/version/0.25.0/reference/api/pandas.merge_asof.html\n",
        "final = pd.merge_asof(final, base_feedback.sort_values('%time'), on='%time', direction='nearest')\n",
        "final = final.dropna()\n",
        "final['image_frames'] = \"myframe\" + final['field.header.seq'].astype(str).str.zfill(6) + \".png\"\n",
        "final = final.drop_duplicates(subset=['image_frames'])"
      ]
    },
    {
      "cell_type": "code",
      "source": [
        "print(final)"
      ],
      "metadata": {
        "colab": {
          "base_uri": "https://localhost:8080/"
        },
        "id": "EBi4aGeU1zBi",
        "outputId": "65d8fbb0-4e30-40a4-a839-8c7732a2d000"
      },
      "execution_count": null,
      "outputs": [
        {
          "output_type": "stream",
          "name": "stdout",
          "text": [
            "                   %time  field.header.seq  field.base.imu_acceleration_x  \\\n",
            "0    1625582778393631832              5294                       0.237740   \n",
            "1    1625582778426759549              5295                       0.237740   \n",
            "2    1625582778460205001              5296                       0.237975   \n",
            "3    1625582778493472124              5297                       0.237975   \n",
            "4    1625582778527016824              5298                       0.237975   \n",
            "..                   ...               ...                            ...   \n",
            "494  1625582799298959801              5895                       0.234765   \n",
            "495  1625582799299725994              5897                       0.234765   \n",
            "496  1625582799300882905              5898                       0.234765   \n",
            "497  1625582799325999298              5899                       0.234765   \n",
            "498  1625582799359269925              5900                       0.236085   \n",
            "\n",
            "     field.base.imu_acceleration_y  field.base.imu_acceleration_z  \\\n",
            "0                         0.057954                      -9.535083   \n",
            "1                         0.057954                      -9.535083   \n",
            "2                         0.058011                      -9.535338   \n",
            "3                         0.058011                      -9.535338   \n",
            "4                         0.058011                      -9.535338   \n",
            "..                             ...                            ...   \n",
            "494                       0.057977                      -9.540079   \n",
            "495                       0.057977                      -9.540079   \n",
            "496                       0.057977                      -9.540079   \n",
            "497                       0.057977                      -9.540079   \n",
            "498                       0.057978                      -9.539718   \n",
            "\n",
            "     field.base.imu_angular_velocity_x  field.base.imu_angular_velocity_y  \\\n",
            "0                             2.604078                           0.117535   \n",
            "1                             2.604078                           0.117535   \n",
            "2                             2.602798                           0.117987   \n",
            "3                             2.602798                           0.117987   \n",
            "4                             2.602798                           0.117987   \n",
            "..                                 ...                                ...   \n",
            "494                           2.604071                           0.110042   \n",
            "495                           2.604071                           0.110042   \n",
            "496                           2.604071                           0.110042   \n",
            "497                           2.604071                           0.110042   \n",
            "498                           2.604383                           0.109583   \n",
            "\n",
            "     field.base.imu_angular_velocity_z  field.base.tool_pose_x  \\\n",
            "0                            -0.650556                0.575791   \n",
            "1                            -0.650556                0.575791   \n",
            "2                            -0.649482                0.575791   \n",
            "3                            -0.649482                0.575791   \n",
            "4                            -0.649482                0.575791   \n",
            "..                                 ...                     ...   \n",
            "494                          -0.653032                0.450401   \n",
            "495                          -0.653032                0.450401   \n",
            "496                          -0.653032                0.450401   \n",
            "497                          -0.653032                0.450401   \n",
            "498                          -0.651734                0.450398   \n",
            "\n",
            "     field.base.tool_pose_y  ...  field.actuators5.torque  \\\n",
            "0                  0.007916  ...                 0.069073   \n",
            "1                  0.007916  ...                 0.055663   \n",
            "2                  0.007916  ...                 0.077397   \n",
            "3                  0.007916  ...                 0.080185   \n",
            "4                  0.007916  ...                 0.081081   \n",
            "..                      ...  ...                      ...   \n",
            "494                0.000002  ...                 0.109017   \n",
            "495                0.000002  ...                 0.109017   \n",
            "496                0.000002  ...                 0.109017   \n",
            "497                0.000002  ...                 0.103058   \n",
            "498                0.000002  ...                 0.124983   \n",
            "\n",
            "     field.interconnect.imu_acceleration_x  \\\n",
            "0                                -0.133907   \n",
            "1                                -0.149450   \n",
            "2                                -0.132712   \n",
            "3                                -0.114180   \n",
            "4                                -0.134505   \n",
            "..                                     ...   \n",
            "494                              -0.014945   \n",
            "495                              -0.014945   \n",
            "496                              -0.014945   \n",
            "497                              -0.059780   \n",
            "498                              -0.011358   \n",
            "\n",
            "     field.interconnect.imu_acceleration_y  \\\n",
            "0                                 9.717837   \n",
            "1                                 9.707674   \n",
            "2                                 9.715446   \n",
            "3                                 9.735771   \n",
            "4                                 9.708272   \n",
            "..                                     ...   \n",
            "494                               0.102822   \n",
            "495                               0.102822   \n",
            "496                               0.102822   \n",
            "497                               0.023314   \n",
            "498                               0.059780   \n",
            "\n",
            "     field.interconnect.imu_acceleration_z  \\\n",
            "0                                 0.294715   \n",
            "1                                 0.283357   \n",
            "2                                 0.317432   \n",
            "3                                 0.313845   \n",
            "4                                 0.274390   \n",
            "..                                     ...   \n",
            "494                              -9.570180   \n",
            "495                              -9.570180   \n",
            "496                              -9.570180   \n",
            "497                              -9.488879   \n",
            "498                              -9.579147   \n",
            "\n",
            "     field.interconnect.imu_angular_velocity_x  \\\n",
            "0                                      2.81750   \n",
            "1                                      2.70375   \n",
            "2                                      3.44750   \n",
            "3                                      3.25500   \n",
            "4                                      3.07125   \n",
            "..                                         ...   \n",
            "494                                    4.09500   \n",
            "495                                    4.09500   \n",
            "496                                    4.09500   \n",
            "497                                    3.47375   \n",
            "498                                    3.50000   \n",
            "\n",
            "     field.interconnect.imu_angular_velocity_y  \\\n",
            "0                                     -3.77125   \n",
            "1                                     -3.26375   \n",
            "2                                     -3.37750   \n",
            "3                                     -3.65750   \n",
            "4                                     -3.43875   \n",
            "..                                         ...   \n",
            "494                                   -3.63125   \n",
            "495                                   -3.63125   \n",
            "496                                   -3.63125   \n",
            "497                                   -3.82375   \n",
            "498                                   -3.99000   \n",
            "\n",
            "     field.interconnect.imu_angular_velocity_z  \\\n",
            "0                                     -0.05250   \n",
            "1                                      0.49875   \n",
            "2                                      0.69125   \n",
            "3                                      0.91875   \n",
            "4                                      0.33250   \n",
            "..                                         ...   \n",
            "494                                    0.69125   \n",
            "495                                    0.69125   \n",
            "496                                    0.69125   \n",
            "497                                    0.50750   \n",
            "498                                    0.08750   \n",
            "\n",
            "     field.interconnect.oneof_tool_feedback.gripper_feedback0.motor0.position  \\\n",
            "0                                            89.912277                          \n",
            "1                                            89.912277                          \n",
            "2                                            89.912277                          \n",
            "3                                            89.912277                          \n",
            "4                                            89.912277                          \n",
            "..                                                 ...                          \n",
            "494                                          89.912277                          \n",
            "495                                          89.912277                          \n",
            "496                                          89.912277                          \n",
            "497                                          89.912277                          \n",
            "498                                          89.912277                          \n",
            "\n",
            "     field.interconnect.oneof_tool_feedback.gripper_feedback0.motor0.velocity  \\\n",
            "0                                                  0.0                          \n",
            "1                                                  0.0                          \n",
            "2                                                  0.0                          \n",
            "3                                                  0.0                          \n",
            "4                                                  0.0                          \n",
            "..                                                 ...                          \n",
            "494                                                0.0                          \n",
            "495                                                0.0                          \n",
            "496                                                0.0                          \n",
            "497                                                0.0                          \n",
            "498                                                0.0                          \n",
            "\n",
            "          image_frames  \n",
            "0    myframe005294.png  \n",
            "1    myframe005295.png  \n",
            "2    myframe005296.png  \n",
            "3    myframe005297.png  \n",
            "4    myframe005298.png  \n",
            "..                 ...  \n",
            "494  myframe005895.png  \n",
            "495  myframe005897.png  \n",
            "496  myframe005898.png  \n",
            "497  myframe005899.png  \n",
            "498  myframe005900.png  \n",
            "\n",
            "[499 rows x 59 columns]\n"
          ]
        }
      ]
    },
    {
      "cell_type": "code",
      "execution_count": null,
      "metadata": {
        "id": "DjdnjQVP3WKe",
        "colab": {
          "base_uri": "https://localhost:8080/"
        },
        "outputId": "037e79f1-ae0c-4ae5-d2e8-02d10a764f8b"
      },
      "outputs": [
        {
          "output_type": "stream",
          "name": "stdout",
          "text": [
            "Length of image dataset:  499\n",
            "Length of base_feedback:  924\n",
            "Length of final:  499\n"
          ]
        }
      ],
      "source": [
        "\n",
        "print(\"Length of image dataset: \", len(merged_data))\n",
        "print(\"Length of base_feedback: \", len(base_feedback))\n",
        "print(\"Length of final: \", len(final))"
      ]
    },
    {
      "cell_type": "code",
      "execution_count": null,
      "metadata": {
        "id": "1g10oKP43ZTl",
        "colab": {
          "base_uri": "https://localhost:8080/"
        },
        "outputId": "c75eaf7b-c5af-47e1-9dbe-807b32524c7b"
      },
      "outputs": [
        {
          "output_type": "stream",
          "name": "stdout",
          "text": [
            "Merging and saving the dataset is complete.\n"
          ]
        }
      ],
      "source": [
        "# Save the merged dataset to a CSV file\n",
        "final_name = dataset + '_final.csv'\n",
        "final.to_csv(final_name, index=False)\n",
        "print(\"Merging and saving the dataset is complete.\")"
      ]
    },
    {
      "cell_type": "code",
      "source": [
        "from google.colab import files\n",
        "\n",
        "# Download the CSV file\n",
        "files.download(final_name)"
      ],
      "metadata": {
        "colab": {
          "base_uri": "https://localhost:8080/",
          "height": 17
        },
        "id": "JElY5r2zCGjZ",
        "outputId": "4c50212c-4d49-4641-a49f-f314130b7236"
      },
      "execution_count": null,
      "outputs": [
        {
          "output_type": "display_data",
          "data": {
            "text/plain": [
              "<IPython.core.display.Javascript object>"
            ],
            "application/javascript": [
              "\n",
              "    async function download(id, filename, size) {\n",
              "      if (!google.colab.kernel.accessAllowed) {\n",
              "        return;\n",
              "      }\n",
              "      const div = document.createElement('div');\n",
              "      const label = document.createElement('label');\n",
              "      label.textContent = `Downloading \"${filename}\": `;\n",
              "      div.appendChild(label);\n",
              "      const progress = document.createElement('progress');\n",
              "      progress.max = size;\n",
              "      div.appendChild(progress);\n",
              "      document.body.appendChild(div);\n",
              "\n",
              "      const buffers = [];\n",
              "      let downloaded = 0;\n",
              "\n",
              "      const channel = await google.colab.kernel.comms.open(id);\n",
              "      // Send a message to notify the kernel that we're ready.\n",
              "      channel.send({})\n",
              "\n",
              "      for await (const message of channel.messages) {\n",
              "        // Send a message to notify the kernel that we're ready.\n",
              "        channel.send({})\n",
              "        if (message.buffers) {\n",
              "          for (const buffer of message.buffers) {\n",
              "            buffers.push(buffer);\n",
              "            downloaded += buffer.byteLength;\n",
              "            progress.value = downloaded;\n",
              "          }\n",
              "        }\n",
              "      }\n",
              "      const blob = new Blob(buffers, {type: 'application/binary'});\n",
              "      const a = document.createElement('a');\n",
              "      a.href = window.URL.createObjectURL(blob);\n",
              "      a.download = filename;\n",
              "      div.appendChild(a);\n",
              "      a.click();\n",
              "      div.remove();\n",
              "    }\n",
              "  "
            ]
          },
          "metadata": {}
        },
        {
          "output_type": "display_data",
          "data": {
            "text/plain": [
              "<IPython.core.display.Javascript object>"
            ],
            "application/javascript": [
              "download(\"download_343c6062-07d0-4be7-8357-7775c4ed3175\", \"flarp_push_3_final.csv\", 432522)"
            ]
          },
          "metadata": {}
        }
      ]
    }
  ],
  "metadata": {
    "colab": {
      "provenance": []
    },
    "kernelspec": {
      "display_name": "Python 3",
      "name": "python3"
    },
    "language_info": {
      "name": "python"
    }
  },
  "nbformat": 4,
  "nbformat_minor": 0
}