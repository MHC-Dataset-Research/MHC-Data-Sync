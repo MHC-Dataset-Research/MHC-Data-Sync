{
 "cells": [
  {
   "cell_type": "code",
   "execution_count": 28,
   "id": "dd860e64-317e-412f-84af-756f9467bb51",
   "metadata": {},
   "outputs": [],
   "source": [
    "import pandas as pd\n",
    "import numpy as np\n",
    "import copy\n",
    "# pandas.__version__"
   ]
  },
  {
   "cell_type": "markdown",
   "id": "15df99a3-fb65-4d46-b61c-1875cc9d1ce7",
   "metadata": {},
   "source": [
    "Set up the columns to be transfered\n",
    "- adds general x, y, z directional columns\n",
    "- adds actuator specific columns\n",
    "- adds gripper columns"
   ]
  },
  {
   "cell_type": "code",
   "execution_count": 30,
   "id": "c1080c87-a069-449e-bf15-17b39e6bdb58",
   "metadata": {},
   "outputs": [
    {
     "name": "stdout",
     "output_type": "stream",
     "text": [
      "done\n"
     ]
    }
   ],
   "source": [
    "bf_cols = ['%time']\n",
    "\n",
    "# add x, y, z data column information\n",
    "for force in ['field.base.imu_acceleration_', 'field.base.imu_angular_velocity_', 'field.base.tool_pose_','field.base.tool_pose_theta_', 'field.base.tool_twist_linear_', 'field.base.tool_twist_angular_', 'field.base.tool_external_wrench_force_', 'field.base.tool_external_wrench_torque_', 'field.base.commanded_tool_pose_', 'field.base.commanded_tool_pose_theta_', 'field.interconnect.imu_acceleration_', 'field.interconnect.imu_angular_velocity_']:\n",
    "    for dir in ['x', 'y', 'z']: \n",
    "        bf_cols.append(force + dir)\n",
    "\n",
    "# add accuator column information\n",
    "for acc in ['field.actuators0' ,'field.actuators1', 'field.actuators2', 'field.actuators3', 'field.actuators4', 'field.actuators5']:\n",
    "    for force in ['.position', '.velocity', '.torque']:\n",
    "        bf_cols.append(acc + force)\n",
    "\n",
    "# add gripper column information\n",
    "    for force in ['field.interconnect.oneof_tool_feedback.gripper_feedback0.motor0.position', 'field.interconnect.oneof_tool_feedback.gripper_feedback0.motor0.velocity']:\n",
    "        bf_cols.append(force)\n",
    "        \n",
    "img_cols = ['%time', 'field.header.seq']\n",
    "\n",
    "# print(bf_cols)\n",
    "print(\"done\")\n"
   ]
  },
  {
   "cell_type": "markdown",
   "id": "944f7e92-1f00-4113-b3d1-31dca411707d",
   "metadata": {},
   "source": [
    "Set up dataframes\n",
    "- read data from basefeedback and camera data files into pandas dataframes"
   ]
  },
  {
   "cell_type": "code",
   "execution_count": 31,
   "id": "141854cc-539b-4f6b-a4a5-2c56f0a9f026",
   "metadata": {},
   "outputs": [
    {
     "name": "stdout",
     "output_type": "stream",
     "text": [
      "running\n",
      "created base_feedback dataframe\n",
      "created cam_1_color dataframe\n",
      "created cam_1_depth dataframe\n",
      "created cam_2_color dataframe\n",
      "created cam_2_depth dataframe\n"
     ]
    }
   ],
   "source": [
    "dataset = \"flarp_folding_4\"\n",
    "print(\"running\")\n",
    "base_feedback = pd.read_csv('/media/imero/kinova_experimen/experimentData/' + dataset + '/csvFiles/' + dataset + '-_my_gen3_base_feedback.csv', usecols=bf_cols)\n",
    "print(\"created base_feedback dataframe\")\n",
    "cam_1_color = pd.read_csv('/media/imero/kinova_experimen/experimentData/' + dataset + '/csvFiles/' + dataset + '-_cam_1_color_image_raw.csv', usecols=img_cols)\n",
    "print(\"created cam_1_color dataframe\")\n",
    "cam_1_depth = pd.read_csv('/media/imero/kinova_experimen/experimentData/' + dataset + '/csvFiles/' + dataset + '-_cam_1_depth_image_raw.csv', usecols=img_cols)\n",
    "print(\"created cam_1_depth dataframe\")\n",
    "cam_2_color = pd.read_csv('/media/imero/kinova_experimen/experimentData/' + dataset + '/csvFiles/' + dataset + '-_cam_2_color_image_raw.csv', usecols=img_cols)\n",
    "print(\"created cam_2_color dataframe\")\n",
    "cam_2_depth = pd.read_csv('/media/imero/kinova_experimen/experimentData/' + dataset + '/csvFiles/' + dataset + '-_cam_2_depth_image_rect_raw.csv', usecols=img_cols)\n",
    "print(\"created cam_2_depth dataframe\")"
   ]
  },
  {
   "cell_type": "markdown",
   "id": "57699a76-eb84-4ea5-8f82-b362e5896eff",
   "metadata": {},
   "source": [
    "Data clean up\n",
    "\n",
    "Main phases:\n",
    "1. Divide data into two groups: basefeedback and image data:\n",
    "    - Assuming all the image data sets have the same number of images:\n",
    "        - find the dataset with the earliest start time\n",
    "        - overwrite the timestamps of all other image data sets to match\n",
    "    Why?: The difference between recorded times should be tiny, so standardizing the times\n",
    "    makes handling the image data easier\n",
    "    \n",
    "2. Trim datasets to synchonize start and end times\n",
    "a)\n",
    "  - Find which group of data sets (basefeedback versus image data sets) starts last\n",
    "b)\n",
    "    - Set the start time to the latest start time from the sets\n",
    "    - Drop data entries from the data set that started first that were recorded before the other data set, i.e. drop entries before the set start time\n",
    "c)\n",
    "    - Find which group of data sets ends first\n",
    "    - Set the end time to the earliest end time amoung the data sets\n",
    "    - Drop data entries from the data set(s) that recorded entries after the end time\n",
    "\n",
    "3. Compare the lengths of the data set groups\n",
    "    - If they are the same, skip down to a special case in 4\n",
    "    - If they are different (most likely case) continue to main phase 4\n",
    "4. Mesh the data sets\n",
    "    - Create final dataframe\n",
    "    - For every timestamp value in the smallest data set group:\n",
    "        - find the timestamp value from the corresponding row in the largest data set group that is most similar (smallest difference) and pair those data rows\n",
    "        - add paired data to the final dataframe\n",
    "5. Convert the data to a CSV file\n",
    "    - Create a CSV file using the final dataframe"
   ]
  },
  {
   "cell_type": "markdown",
   "id": "82d70196",
   "metadata": {},
   "source": [
    "Phase 1"
   ]
  },
  {
   "cell_type": "code",
   "execution_count": 32,
   "id": "36a11672",
   "metadata": {},
   "outputs": [
    {
     "name": "stdout",
     "output_type": "stream",
     "text": [
      "phase 1 running\n",
      "Start time is:  1625595589500829895\n",
      "Image ref is  2\n",
      "Image start is :  1625595589500829895\n"
     ]
    }
   ],
   "source": [
    "print(\"phase 1 running\")\n",
    "# find the start of every image data set\n",
    "cam_1_c_start = cam_1_color['%time'][0]\n",
    "cam_1_d_start = cam_1_depth['%time'][0]\n",
    "cam_2_c_start = cam_2_color['%time'][0]\n",
    "cam_2_d_start = cam_2_depth['%time'][0]\n",
    "\n",
    "# find earliest start time\n",
    "image_set = [cam_1_color, cam_1_depth, cam_2_color, cam_2_depth]\n",
    "image_start = np.min([cam_1_c_start, cam_1_d_start, cam_2_c_start, cam_2_d_start]) # problems!!\n",
    "\n",
    "# standardize image data set timestamps\n",
    "image_ref = None\n",
    "for i in range(0,4):\n",
    "    if image_start == image_set[i].iloc[0][0] and image_ref == None:\n",
    "        times = image_set[i]['%time']\n",
    "        image_ref = i\n",
    "        print(\"Start time is: \", image_set[i].iloc[0][0])\n",
    "        print(\"Image ref is \", image_ref)\n",
    "        for j in range(0,4):\n",
    "            if (i != j):\n",
    "                image_set[j]['%time'] = times\n",
    "        \n",
    "print(\"Image start is : \", image_start)"
   ]
  },
  {
   "cell_type": "markdown",
   "id": "13d8c799",
   "metadata": {},
   "source": [
    "Phase 2a"
   ]
  },
  {
   "cell_type": "code",
   "execution_count": 33,
   "id": "44e95e20-5334-4df6-b71a-46136e3662e0",
   "metadata": {},
   "outputs": [
    {
     "name": "stdout",
     "output_type": "stream",
     "text": [
      "Images begins last with difference of:  -1347584.0\n",
      "Remove:  0\n",
      "Length of basefeedback =  1229\n",
      "Length of basefeedback after drop=  1228\n"
     ]
    }
   ],
   "source": [
    "# Find whether bf or image data sets begins last, create common start time\n",
    "bf_start = base_feedback.iloc[0][0]\n",
    "to_shorten = \"\"\n",
    "if (bf_start - image_start) > 1:\n",
    "    print(\"bf begins last with difference of: \", bf_start - image_start)\n",
    "    start = bf_start\n",
    "    to_shorten = \"images\"\n",
    "elif bf_start - image_start < 1:\n",
    "    print(\"Images begins last with difference of: \", bf_start - image_start)\n",
    "    start = image_start\n",
    "    to_shorten = \"bf\"\n",
    "else:\n",
    "    print(synchonized_start)\n",
    "    start = bf_start\n",
    "    \n",
    "# Remove data before start time\n",
    "if (to_shorten == \"images\"):\n",
    "    remove = []\n",
    "    for x in range(0, len(cam_1_color)):\n",
    "        if cam_1_color.iloc[x, 0] < start:\n",
    "            print(\"Remove: \", x)\n",
    "            remove.append(x);\n",
    "    print(\"Length of cam_1_color = \", len(cam_1_color))     \n",
    "    cam_1_color = cam_1_color.drop(remove).reset_index().drop(columns = \"index\")\n",
    "    print(\"Length of cam_1_color after drop= \", len(cam_1_color))\n",
    "elif (to_shorten == \"bf\"):\n",
    "    remove = []\n",
    "    for x in range(0, len(base_feedback)):\n",
    "        if base_feedback.iloc[x, 0] < start:\n",
    "            print(\"Remove: \", x)\n",
    "            remove.append(x);\n",
    "    print(\"Length of basefeedback = \", len(base_feedback))\n",
    "    if len(remove) > 0: \n",
    "        base_feedback = base_feedback.drop(remove).reset_index().drop(columns = \"index\")\n",
    "    print(\"Length of basefeedback after drop= \", len(base_feedback))\n",
    "\n"
   ]
  },
  {
   "cell_type": "markdown",
   "id": "5b0b72f3",
   "metadata": {},
   "source": [
    "Phase 2b"
   ]
  },
  {
   "cell_type": "code",
   "execution_count": 36,
   "id": "ffbbe69b-931d-4a24-8cdf-fda195e10174",
   "metadata": {},
   "outputs": [
    {
     "name": "stdout",
     "output_type": "stream",
     "text": [
      "bf ends first, with difference of:  -10145400\n",
      "Remove:  921\n",
      "                   %time  field.header.seq\n",
      "0    1625595589500829895              4219\n",
      "1    1625595589528456368              4220\n",
      "2    1625595589562393771              4221\n",
      "3    1625595589595483746              4222\n",
      "4    1625595589633193689              4223\n",
      "..                   ...               ...\n",
      "916  1625595620043202530              5135\n",
      "917  1625595620075346030              5136\n",
      "918  1625595620109562076              5137\n",
      "919  1625595620144537229              5138\n",
      "920  1625595620177313842              5139\n",
      "\n",
      "[921 rows x 2 columns]\n",
      "Length of image ref =  922\n"
     ]
    },
    {
     "ename": "KeyError",
     "evalue": "'[921] not found in axis'",
     "output_type": "error",
     "traceback": [
      "\u001b[0;31m---------------------------------------------------------------------------\u001b[0m",
      "\u001b[0;31mKeyError\u001b[0m                                  Traceback (most recent call last)",
      "\u001b[0;32m<ipython-input-36-fe9897705faa>\u001b[0m in \u001b[0;36m<module>\u001b[0;34m\u001b[0m\n\u001b[1;32m     39\u001b[0m     \u001b[0;32mif\u001b[0m \u001b[0;34m(\u001b[0m\u001b[0mlen\u001b[0m\u001b[0;34m(\u001b[0m\u001b[0mremove\u001b[0m\u001b[0;34m)\u001b[0m \u001b[0;34m>\u001b[0m \u001b[0;36m0\u001b[0m\u001b[0;34m)\u001b[0m\u001b[0;34m:\u001b[0m\u001b[0;34m\u001b[0m\u001b[0;34m\u001b[0m\u001b[0m\n\u001b[1;32m     40\u001b[0m         \u001b[0;32mfor\u001b[0m \u001b[0mi\u001b[0m \u001b[0;32min\u001b[0m \u001b[0mrange\u001b[0m \u001b[0;34m(\u001b[0m\u001b[0;36m0\u001b[0m\u001b[0;34m,\u001b[0m \u001b[0;36m4\u001b[0m\u001b[0;34m)\u001b[0m\u001b[0;34m:\u001b[0m\u001b[0;34m\u001b[0m\u001b[0;34m\u001b[0m\u001b[0m\n\u001b[0;32m---> 41\u001b[0;31m             \u001b[0mimage_set\u001b[0m\u001b[0;34m[\u001b[0m\u001b[0mi\u001b[0m\u001b[0;34m]\u001b[0m \u001b[0;34m=\u001b[0m \u001b[0mimage_set\u001b[0m\u001b[0;34m[\u001b[0m\u001b[0mi\u001b[0m\u001b[0;34m]\u001b[0m\u001b[0;34m.\u001b[0m\u001b[0mdrop\u001b[0m\u001b[0;34m(\u001b[0m\u001b[0mremove\u001b[0m\u001b[0;34m)\u001b[0m\u001b[0;34m.\u001b[0m\u001b[0mreset_index\u001b[0m\u001b[0;34m(\u001b[0m\u001b[0;34m)\u001b[0m\u001b[0;34m.\u001b[0m\u001b[0mdrop\u001b[0m\u001b[0;34m(\u001b[0m\u001b[0mcolumns\u001b[0m \u001b[0;34m=\u001b[0m \u001b[0;34m\"index\"\u001b[0m\u001b[0;34m)\u001b[0m\u001b[0;34m\u001b[0m\u001b[0;34m\u001b[0m\u001b[0m\n\u001b[0m\u001b[1;32m     42\u001b[0m             \u001b[0mprint\u001b[0m\u001b[0;34m(\u001b[0m\u001b[0;34m\"Length of image_set[\"\u001b[0m \u001b[0;34m+\u001b[0m \u001b[0mstr\u001b[0m\u001b[0;34m(\u001b[0m\u001b[0mi\u001b[0m\u001b[0;34m)\u001b[0m \u001b[0;34m+\u001b[0m \u001b[0;34m\"] after drop= \"\u001b[0m\u001b[0;34m,\u001b[0m \u001b[0mlen\u001b[0m\u001b[0;34m(\u001b[0m\u001b[0mimage_set\u001b[0m\u001b[0;34m[\u001b[0m\u001b[0mi\u001b[0m\u001b[0;34m]\u001b[0m\u001b[0;34m)\u001b[0m\u001b[0;34m)\u001b[0m\u001b[0;34m\u001b[0m\u001b[0;34m\u001b[0m\u001b[0m\n\u001b[1;32m     43\u001b[0m \u001b[0;34m\u001b[0m\u001b[0m\n",
      "\u001b[0;32m~/Downloads/Enter/lib/python3.8/site-packages/pandas/core/frame.py\u001b[0m in \u001b[0;36mdrop\u001b[0;34m(self, labels, axis, index, columns, level, inplace, errors)\u001b[0m\n\u001b[1;32m   4306\u001b[0m                 \u001b[0mweight\u001b[0m  \u001b[0;36m1.0\u001b[0m     \u001b[0;36m0.8\u001b[0m\u001b[0;34m\u001b[0m\u001b[0;34m\u001b[0m\u001b[0m\n\u001b[1;32m   4307\u001b[0m         \"\"\"\n\u001b[0;32m-> 4308\u001b[0;31m         return super().drop(\n\u001b[0m\u001b[1;32m   4309\u001b[0m             \u001b[0mlabels\u001b[0m\u001b[0;34m=\u001b[0m\u001b[0mlabels\u001b[0m\u001b[0;34m,\u001b[0m\u001b[0;34m\u001b[0m\u001b[0;34m\u001b[0m\u001b[0m\n\u001b[1;32m   4310\u001b[0m             \u001b[0maxis\u001b[0m\u001b[0;34m=\u001b[0m\u001b[0maxis\u001b[0m\u001b[0;34m,\u001b[0m\u001b[0;34m\u001b[0m\u001b[0;34m\u001b[0m\u001b[0m\n",
      "\u001b[0;32m~/Downloads/Enter/lib/python3.8/site-packages/pandas/core/generic.py\u001b[0m in \u001b[0;36mdrop\u001b[0;34m(self, labels, axis, index, columns, level, inplace, errors)\u001b[0m\n\u001b[1;32m   4151\u001b[0m         \u001b[0;32mfor\u001b[0m \u001b[0maxis\u001b[0m\u001b[0;34m,\u001b[0m \u001b[0mlabels\u001b[0m \u001b[0;32min\u001b[0m \u001b[0maxes\u001b[0m\u001b[0;34m.\u001b[0m\u001b[0mitems\u001b[0m\u001b[0;34m(\u001b[0m\u001b[0;34m)\u001b[0m\u001b[0;34m:\u001b[0m\u001b[0;34m\u001b[0m\u001b[0;34m\u001b[0m\u001b[0m\n\u001b[1;32m   4152\u001b[0m             \u001b[0;32mif\u001b[0m \u001b[0mlabels\u001b[0m \u001b[0;32mis\u001b[0m \u001b[0;32mnot\u001b[0m \u001b[0;32mNone\u001b[0m\u001b[0;34m:\u001b[0m\u001b[0;34m\u001b[0m\u001b[0;34m\u001b[0m\u001b[0m\n\u001b[0;32m-> 4153\u001b[0;31m                 \u001b[0mobj\u001b[0m \u001b[0;34m=\u001b[0m \u001b[0mobj\u001b[0m\u001b[0;34m.\u001b[0m\u001b[0m_drop_axis\u001b[0m\u001b[0;34m(\u001b[0m\u001b[0mlabels\u001b[0m\u001b[0;34m,\u001b[0m \u001b[0maxis\u001b[0m\u001b[0;34m,\u001b[0m \u001b[0mlevel\u001b[0m\u001b[0;34m=\u001b[0m\u001b[0mlevel\u001b[0m\u001b[0;34m,\u001b[0m \u001b[0merrors\u001b[0m\u001b[0;34m=\u001b[0m\u001b[0merrors\u001b[0m\u001b[0;34m)\u001b[0m\u001b[0;34m\u001b[0m\u001b[0;34m\u001b[0m\u001b[0m\n\u001b[0m\u001b[1;32m   4154\u001b[0m \u001b[0;34m\u001b[0m\u001b[0m\n\u001b[1;32m   4155\u001b[0m         \u001b[0;32mif\u001b[0m \u001b[0minplace\u001b[0m\u001b[0;34m:\u001b[0m\u001b[0;34m\u001b[0m\u001b[0;34m\u001b[0m\u001b[0m\n",
      "\u001b[0;32m~/Downloads/Enter/lib/python3.8/site-packages/pandas/core/generic.py\u001b[0m in \u001b[0;36m_drop_axis\u001b[0;34m(self, labels, axis, level, errors)\u001b[0m\n\u001b[1;32m   4186\u001b[0m                 \u001b[0mnew_axis\u001b[0m \u001b[0;34m=\u001b[0m \u001b[0maxis\u001b[0m\u001b[0;34m.\u001b[0m\u001b[0mdrop\u001b[0m\u001b[0;34m(\u001b[0m\u001b[0mlabels\u001b[0m\u001b[0;34m,\u001b[0m \u001b[0mlevel\u001b[0m\u001b[0;34m=\u001b[0m\u001b[0mlevel\u001b[0m\u001b[0;34m,\u001b[0m \u001b[0merrors\u001b[0m\u001b[0;34m=\u001b[0m\u001b[0merrors\u001b[0m\u001b[0;34m)\u001b[0m\u001b[0;34m\u001b[0m\u001b[0;34m\u001b[0m\u001b[0m\n\u001b[1;32m   4187\u001b[0m             \u001b[0;32melse\u001b[0m\u001b[0;34m:\u001b[0m\u001b[0;34m\u001b[0m\u001b[0;34m\u001b[0m\u001b[0m\n\u001b[0;32m-> 4188\u001b[0;31m                 \u001b[0mnew_axis\u001b[0m \u001b[0;34m=\u001b[0m \u001b[0maxis\u001b[0m\u001b[0;34m.\u001b[0m\u001b[0mdrop\u001b[0m\u001b[0;34m(\u001b[0m\u001b[0mlabels\u001b[0m\u001b[0;34m,\u001b[0m \u001b[0merrors\u001b[0m\u001b[0;34m=\u001b[0m\u001b[0merrors\u001b[0m\u001b[0;34m)\u001b[0m\u001b[0;34m\u001b[0m\u001b[0;34m\u001b[0m\u001b[0m\n\u001b[0m\u001b[1;32m   4189\u001b[0m             \u001b[0mresult\u001b[0m \u001b[0;34m=\u001b[0m \u001b[0mself\u001b[0m\u001b[0;34m.\u001b[0m\u001b[0mreindex\u001b[0m\u001b[0;34m(\u001b[0m\u001b[0;34m**\u001b[0m\u001b[0;34m{\u001b[0m\u001b[0maxis_name\u001b[0m\u001b[0;34m:\u001b[0m \u001b[0mnew_axis\u001b[0m\u001b[0;34m}\u001b[0m\u001b[0;34m)\u001b[0m\u001b[0;34m\u001b[0m\u001b[0;34m\u001b[0m\u001b[0m\n\u001b[1;32m   4190\u001b[0m \u001b[0;34m\u001b[0m\u001b[0m\n",
      "\u001b[0;32m~/Downloads/Enter/lib/python3.8/site-packages/pandas/core/indexes/base.py\u001b[0m in \u001b[0;36mdrop\u001b[0;34m(self, labels, errors)\u001b[0m\n\u001b[1;32m   5589\u001b[0m         \u001b[0;32mif\u001b[0m \u001b[0mmask\u001b[0m\u001b[0;34m.\u001b[0m\u001b[0many\u001b[0m\u001b[0;34m(\u001b[0m\u001b[0;34m)\u001b[0m\u001b[0;34m:\u001b[0m\u001b[0;34m\u001b[0m\u001b[0;34m\u001b[0m\u001b[0m\n\u001b[1;32m   5590\u001b[0m             \u001b[0;32mif\u001b[0m \u001b[0merrors\u001b[0m \u001b[0;34m!=\u001b[0m \u001b[0;34m\"ignore\"\u001b[0m\u001b[0;34m:\u001b[0m\u001b[0;34m\u001b[0m\u001b[0;34m\u001b[0m\u001b[0m\n\u001b[0;32m-> 5591\u001b[0;31m                 \u001b[0;32mraise\u001b[0m \u001b[0mKeyError\u001b[0m\u001b[0;34m(\u001b[0m\u001b[0;34mf\"{labels[mask]} not found in axis\"\u001b[0m\u001b[0;34m)\u001b[0m\u001b[0;34m\u001b[0m\u001b[0;34m\u001b[0m\u001b[0m\n\u001b[0m\u001b[1;32m   5592\u001b[0m             \u001b[0mindexer\u001b[0m \u001b[0;34m=\u001b[0m \u001b[0mindexer\u001b[0m\u001b[0;34m[\u001b[0m\u001b[0;34m~\u001b[0m\u001b[0mmask\u001b[0m\u001b[0;34m]\u001b[0m\u001b[0;34m\u001b[0m\u001b[0;34m\u001b[0m\u001b[0m\n\u001b[1;32m   5593\u001b[0m         \u001b[0;32mreturn\u001b[0m \u001b[0mself\u001b[0m\u001b[0;34m.\u001b[0m\u001b[0mdelete\u001b[0m\u001b[0;34m(\u001b[0m\u001b[0mindexer\u001b[0m\u001b[0;34m)\u001b[0m\u001b[0;34m\u001b[0m\u001b[0;34m\u001b[0m\u001b[0m\n",
      "\u001b[0;31mKeyError\u001b[0m: '[921] not found in axis'"
     ]
    }
   ],
   "source": [
    "# Need to find common end time\n",
    "bf_end = base_feedback['%time'][len(base_feedback) - 1]\n",
    "image_end = image_set[image_ref]['%time'][len(image_set[image_ref]) - 1]\n",
    "\n",
    "if bf_end - image_end > 1:\n",
    "    print(\"images ends first, with difference of: \", bf_end - image_end)\n",
    "    end = image_end\n",
    "    to_shorten = \"bf\"\n",
    "elif bf_end - image_end < 1:\n",
    "    print(\"bf ends first, with difference of: \", bf_end - image_end)\n",
    "    end = bf_end\n",
    "    to_shorten = \"images\"\n",
    "else:\n",
    "    print(\"synchonized end\")\n",
    "    end = bf_end\n",
    "    to_shorten = \"none\"\n",
    "    \n",
    "# Need to remove extra data at ends\n",
    "remove = []\n",
    "    \n",
    "if (to_shorten == \"bf\"):\n",
    "    print(\"Need to add code to shorten bf at end\")\n",
    "    for x in range(0, len(base_feedback)):\n",
    "        if base_feedback.iloc[x, 0] > end:\n",
    "            print(x)\n",
    "            remove.append(x);\n",
    "    print(\"Length of basefeedback = \", len(base_feedback))     \n",
    "    if (len(remove) > 0):\n",
    "        base_feedback = base_feedback.drop(remove).reset_index().drop(columns = \"index\")\n",
    "    print(\"Length of base_feedback after drop = \", len(base_feedback))\n",
    "\n",
    "if (to_shorten == \"images\"):\n",
    "    for x in range(0, len(image_set[image_ref])):\n",
    "        if image_set[image_ref].iloc[x, 0] > end:\n",
    "            print(\"Remove: \", x)\n",
    "            print(image_set[i])\n",
    "            remove.append(x);\n",
    "    print(\"Length of image ref = \", len(image_set[image_ref]))\n",
    "    if (len(remove) > 0):\n",
    "        for i in range (0, 4):\n",
    "            image_set[i] = image_set[i].drop(remove).reset_index().drop(columns = \"index\")\n",
    "            print(\"Length of image_set[\" + str(i) + \"] after drop= \", len(image_set[i]))\n",
    "            \n",
    "        \n"
   ]
  },
  {
   "cell_type": "markdown",
   "id": "8a8e525b",
   "metadata": {},
   "source": [
    "Phase 3"
   ]
  },
  {
   "cell_type": "code",
   "execution_count": 17,
   "id": "1cbb5502-2806-433d-9664-9d04cb6e14d0",
   "metadata": {},
   "outputs": [
    {
     "name": "stdout",
     "output_type": "stream",
     "text": [
      "Length of image ref:  921\n",
      "Length of base_feedback:  1228\n",
      "Ratio of base feedback images to image ref:  1.3333333333333333\n"
     ]
    }
   ],
   "source": [
    "# Need to then compare data lengths\n",
    "print(\"Length of image ref: \", len(image_set[image_ref]))\n",
    "print(\"Length of base_feedback: \", len(base_feedback))\n",
    "print(\"Ratio of base feedback images to image ref: \", len(base_feedback)/len(image_set[image_ref]))\n",
    "\n",
    "test_Var = 10"
   ]
  },
  {
   "cell_type": "code",
   "execution_count": 21,
   "id": "6212616d",
   "metadata": {},
   "outputs": [
    {
     "name": "stdout",
     "output_type": "stream",
     "text": [
      "922\n"
     ]
    }
   ],
   "source": [
    "print(len(image_set[3]))"
   ]
  },
  {
   "cell_type": "markdown",
   "id": "56e556c0",
   "metadata": {},
   "source": [
    "Phase 4"
   ]
  },
  {
   "cell_type": "code",
   "execution_count": 18,
   "id": "8c3e7c4a-b88b-4593-9e3e-3cca70cf6a26",
   "metadata": {},
   "outputs": [
    {
     "ename": "ValueError",
     "evalue": "Length of values (922) does not match length of index (921)",
     "output_type": "error",
     "traceback": [
      "\u001b[0;31m---------------------------------------------------------------------------\u001b[0m",
      "\u001b[0;31mValueError\u001b[0m                                Traceback (most recent call last)",
      "\u001b[0;32m<ipython-input-18-8055985ae7f1>\u001b[0m in \u001b[0;36m<module>\u001b[0;34m\u001b[0m\n\u001b[1;32m     13\u001b[0m \u001b[0;31m#add cam_2 data\u001b[0m\u001b[0;34m\u001b[0m\u001b[0;34m\u001b[0m\u001b[0;34m\u001b[0m\u001b[0m\n\u001b[1;32m     14\u001b[0m \u001b[0mfinal\u001b[0m\u001b[0;34m[\u001b[0m\u001b[0;34m'cam_2_color_filename'\u001b[0m\u001b[0;34m]\u001b[0m \u001b[0;34m=\u001b[0m \u001b[0;34m(\u001b[0m\u001b[0;34m\"myframe\"\u001b[0m \u001b[0;34m+\u001b[0m \u001b[0mimage_set\u001b[0m\u001b[0;34m[\u001b[0m\u001b[0;36m2\u001b[0m\u001b[0;34m]\u001b[0m\u001b[0;34m[\u001b[0m\u001b[0;34m'field.header.seq'\u001b[0m\u001b[0;34m]\u001b[0m\u001b[0;34m.\u001b[0m\u001b[0mastype\u001b[0m\u001b[0;34m(\u001b[0m\u001b[0mstr\u001b[0m\u001b[0;34m)\u001b[0m\u001b[0;34m.\u001b[0m\u001b[0mstr\u001b[0m\u001b[0;34m.\u001b[0m\u001b[0mzfill\u001b[0m\u001b[0;34m(\u001b[0m\u001b[0;36m6\u001b[0m\u001b[0;34m)\u001b[0m \u001b[0;34m+\u001b[0m \u001b[0;34m\".png\"\u001b[0m\u001b[0;34m)\u001b[0m\u001b[0;34m.\u001b[0m\u001b[0mvalues\u001b[0m\u001b[0;34m\u001b[0m\u001b[0;34m\u001b[0m\u001b[0m\n\u001b[0;32m---> 15\u001b[0;31m \u001b[0mfinal\u001b[0m\u001b[0;34m[\u001b[0m\u001b[0;34m'cam_2_depth_filename'\u001b[0m\u001b[0;34m]\u001b[0m \u001b[0;34m=\u001b[0m \u001b[0;34m(\u001b[0m\u001b[0;34m\"myframe\"\u001b[0m \u001b[0;34m+\u001b[0m \u001b[0mimage_set\u001b[0m\u001b[0;34m[\u001b[0m\u001b[0;36m3\u001b[0m\u001b[0;34m]\u001b[0m\u001b[0;34m[\u001b[0m\u001b[0;34m'field.header.seq'\u001b[0m\u001b[0;34m]\u001b[0m\u001b[0;34m.\u001b[0m\u001b[0mastype\u001b[0m\u001b[0;34m(\u001b[0m\u001b[0mstr\u001b[0m\u001b[0;34m)\u001b[0m\u001b[0;34m.\u001b[0m\u001b[0mstr\u001b[0m\u001b[0;34m.\u001b[0m\u001b[0mzfill\u001b[0m\u001b[0;34m(\u001b[0m\u001b[0;36m6\u001b[0m\u001b[0;34m)\u001b[0m \u001b[0;34m+\u001b[0m \u001b[0;34m\".png\"\u001b[0m\u001b[0;34m)\u001b[0m\u001b[0;34m.\u001b[0m\u001b[0mvalues\u001b[0m\u001b[0;34m\u001b[0m\u001b[0;34m\u001b[0m\u001b[0m\n\u001b[0m\u001b[1;32m     16\u001b[0m \u001b[0;34m\u001b[0m\u001b[0m\n\u001b[1;32m     17\u001b[0m \u001b[0;32mwhile\u001b[0m \u001b[0mj\u001b[0m \u001b[0;34m<\u001b[0m \u001b[0mlen\u001b[0m\u001b[0;34m(\u001b[0m\u001b[0mimage_set\u001b[0m\u001b[0;34m[\u001b[0m\u001b[0mimage_ref\u001b[0m\u001b[0;34m]\u001b[0m\u001b[0;34m)\u001b[0m\u001b[0;34m:\u001b[0m\u001b[0;34m\u001b[0m\u001b[0;34m\u001b[0m\u001b[0m\n",
      "\u001b[0;32m~/Downloads/Enter/lib/python3.8/site-packages/pandas/core/frame.py\u001b[0m in \u001b[0;36m__setitem__\u001b[0;34m(self, key, value)\u001b[0m\n\u001b[1;32m   3161\u001b[0m         \u001b[0;32melse\u001b[0m\u001b[0;34m:\u001b[0m\u001b[0;34m\u001b[0m\u001b[0;34m\u001b[0m\u001b[0m\n\u001b[1;32m   3162\u001b[0m             \u001b[0;31m# set column\u001b[0m\u001b[0;34m\u001b[0m\u001b[0;34m\u001b[0m\u001b[0;34m\u001b[0m\u001b[0m\n\u001b[0;32m-> 3163\u001b[0;31m             \u001b[0mself\u001b[0m\u001b[0;34m.\u001b[0m\u001b[0m_set_item\u001b[0m\u001b[0;34m(\u001b[0m\u001b[0mkey\u001b[0m\u001b[0;34m,\u001b[0m \u001b[0mvalue\u001b[0m\u001b[0;34m)\u001b[0m\u001b[0;34m\u001b[0m\u001b[0;34m\u001b[0m\u001b[0m\n\u001b[0m\u001b[1;32m   3164\u001b[0m \u001b[0;34m\u001b[0m\u001b[0m\n\u001b[1;32m   3165\u001b[0m     \u001b[0;32mdef\u001b[0m \u001b[0m_setitem_slice\u001b[0m\u001b[0;34m(\u001b[0m\u001b[0mself\u001b[0m\u001b[0;34m,\u001b[0m \u001b[0mkey\u001b[0m\u001b[0;34m:\u001b[0m \u001b[0mslice\u001b[0m\u001b[0;34m,\u001b[0m \u001b[0mvalue\u001b[0m\u001b[0;34m)\u001b[0m\u001b[0;34m:\u001b[0m\u001b[0;34m\u001b[0m\u001b[0;34m\u001b[0m\u001b[0m\n",
      "\u001b[0;32m~/Downloads/Enter/lib/python3.8/site-packages/pandas/core/frame.py\u001b[0m in \u001b[0;36m_set_item\u001b[0;34m(self, key, value)\u001b[0m\n\u001b[1;32m   3240\u001b[0m         \"\"\"\n\u001b[1;32m   3241\u001b[0m         \u001b[0mself\u001b[0m\u001b[0;34m.\u001b[0m\u001b[0m_ensure_valid_index\u001b[0m\u001b[0;34m(\u001b[0m\u001b[0mvalue\u001b[0m\u001b[0;34m)\u001b[0m\u001b[0;34m\u001b[0m\u001b[0;34m\u001b[0m\u001b[0m\n\u001b[0;32m-> 3242\u001b[0;31m         \u001b[0mvalue\u001b[0m \u001b[0;34m=\u001b[0m \u001b[0mself\u001b[0m\u001b[0;34m.\u001b[0m\u001b[0m_sanitize_column\u001b[0m\u001b[0;34m(\u001b[0m\u001b[0mkey\u001b[0m\u001b[0;34m,\u001b[0m \u001b[0mvalue\u001b[0m\u001b[0;34m)\u001b[0m\u001b[0;34m\u001b[0m\u001b[0;34m\u001b[0m\u001b[0m\n\u001b[0m\u001b[1;32m   3243\u001b[0m         \u001b[0mNDFrame\u001b[0m\u001b[0;34m.\u001b[0m\u001b[0m_set_item\u001b[0m\u001b[0;34m(\u001b[0m\u001b[0mself\u001b[0m\u001b[0;34m,\u001b[0m \u001b[0mkey\u001b[0m\u001b[0;34m,\u001b[0m \u001b[0mvalue\u001b[0m\u001b[0;34m)\u001b[0m\u001b[0;34m\u001b[0m\u001b[0;34m\u001b[0m\u001b[0m\n\u001b[1;32m   3244\u001b[0m \u001b[0;34m\u001b[0m\u001b[0m\n",
      "\u001b[0;32m~/Downloads/Enter/lib/python3.8/site-packages/pandas/core/frame.py\u001b[0m in \u001b[0;36m_sanitize_column\u001b[0;34m(self, key, value, broadcast)\u001b[0m\n\u001b[1;32m   3897\u001b[0m \u001b[0;34m\u001b[0m\u001b[0m\n\u001b[1;32m   3898\u001b[0m             \u001b[0;31m# turn me into an ndarray\u001b[0m\u001b[0;34m\u001b[0m\u001b[0;34m\u001b[0m\u001b[0;34m\u001b[0m\u001b[0m\n\u001b[0;32m-> 3899\u001b[0;31m             \u001b[0mvalue\u001b[0m \u001b[0;34m=\u001b[0m \u001b[0msanitize_index\u001b[0m\u001b[0;34m(\u001b[0m\u001b[0mvalue\u001b[0m\u001b[0;34m,\u001b[0m \u001b[0mself\u001b[0m\u001b[0;34m.\u001b[0m\u001b[0mindex\u001b[0m\u001b[0;34m)\u001b[0m\u001b[0;34m\u001b[0m\u001b[0;34m\u001b[0m\u001b[0m\n\u001b[0m\u001b[1;32m   3900\u001b[0m             \u001b[0;32mif\u001b[0m \u001b[0;32mnot\u001b[0m \u001b[0misinstance\u001b[0m\u001b[0;34m(\u001b[0m\u001b[0mvalue\u001b[0m\u001b[0;34m,\u001b[0m \u001b[0;34m(\u001b[0m\u001b[0mnp\u001b[0m\u001b[0;34m.\u001b[0m\u001b[0mndarray\u001b[0m\u001b[0;34m,\u001b[0m \u001b[0mIndex\u001b[0m\u001b[0;34m)\u001b[0m\u001b[0;34m)\u001b[0m\u001b[0;34m:\u001b[0m\u001b[0;34m\u001b[0m\u001b[0;34m\u001b[0m\u001b[0m\n\u001b[1;32m   3901\u001b[0m                 \u001b[0;32mif\u001b[0m \u001b[0misinstance\u001b[0m\u001b[0;34m(\u001b[0m\u001b[0mvalue\u001b[0m\u001b[0;34m,\u001b[0m \u001b[0mlist\u001b[0m\u001b[0;34m)\u001b[0m \u001b[0;32mand\u001b[0m \u001b[0mlen\u001b[0m\u001b[0;34m(\u001b[0m\u001b[0mvalue\u001b[0m\u001b[0;34m)\u001b[0m \u001b[0;34m>\u001b[0m \u001b[0;36m0\u001b[0m\u001b[0;34m:\u001b[0m\u001b[0;34m\u001b[0m\u001b[0;34m\u001b[0m\u001b[0m\n",
      "\u001b[0;32m~/Downloads/Enter/lib/python3.8/site-packages/pandas/core/internals/construction.py\u001b[0m in \u001b[0;36msanitize_index\u001b[0;34m(data, index)\u001b[0m\n\u001b[1;32m    749\u001b[0m     \"\"\"\n\u001b[1;32m    750\u001b[0m     \u001b[0;32mif\u001b[0m \u001b[0mlen\u001b[0m\u001b[0;34m(\u001b[0m\u001b[0mdata\u001b[0m\u001b[0;34m)\u001b[0m \u001b[0;34m!=\u001b[0m \u001b[0mlen\u001b[0m\u001b[0;34m(\u001b[0m\u001b[0mindex\u001b[0m\u001b[0;34m)\u001b[0m\u001b[0;34m:\u001b[0m\u001b[0;34m\u001b[0m\u001b[0;34m\u001b[0m\u001b[0m\n\u001b[0;32m--> 751\u001b[0;31m         raise ValueError(\n\u001b[0m\u001b[1;32m    752\u001b[0m             \u001b[0;34m\"Length of values \"\u001b[0m\u001b[0;34m\u001b[0m\u001b[0;34m\u001b[0m\u001b[0m\n\u001b[1;32m    753\u001b[0m             \u001b[0;34mf\"({len(data)}) \"\u001b[0m\u001b[0;34m\u001b[0m\u001b[0;34m\u001b[0m\u001b[0m\n",
      "\u001b[0;31mValueError\u001b[0m: Length of values (922) does not match length of index (921)"
     ]
    }
   ],
   "source": [
    "#Let the meshing begin\n",
    "i = 0 #index of the next bf data to be sorted\n",
    "j = 0 #index of the next image to be sorted\n",
    "final_cols = copy.copy(bf_cols) #need to make this a copy\n",
    "final_cols.extend(['cam_1_color_filename', 'cam_1_depth_filename', 'cam_2_color_filename', 'cam_2_depth_filename'])\n",
    "\n",
    "final = pd.DataFrame(columns = final_cols)\n",
    "# add time stamps\n",
    "final['%time'] = image_set[image_ref]['%time'].values\n",
    "# add cam_1 data\n",
    "final['cam_1_color_filename'] = (\"myframe\" + image_set[0]['field.header.seq'].astype(str).str.zfill(6) + \".png\").values\n",
    "final['cam_1_depth_filename'] = (\"myframe\" + image_set[1]['field.header.seq'].astype(str).str.zfill(6) + \".png\").values\n",
    "#add cam_2 data\n",
    "final['cam_2_color_filename'] = (\"myframe\" + image_set[2]['field.header.seq'].astype(str).str.zfill(6) + \".png\").values\n",
    "final['cam_2_depth_filename'] = (\"myframe\" + image_set[3]['field.header.seq'].astype(str).str.zfill(6) + \".png\").values\n",
    "\n",
    "while j < len(image_set[image_ref]): \n",
    "    # find a match\n",
    "    match = i\n",
    "    img_time = image_set[image_ref].iloc[j][0]\n",
    "    match_diff = abs(img_time - base_feedback.iloc[i][0])\n",
    "    for offset in range(1,5):\n",
    "        #check that offset value is in range\n",
    "        if (i + offset < len(image_set[image_ref])):     \n",
    "            bf_time = base_feedback.iloc[i + offset][0]\n",
    "            # if the difference between the timestamps for img_time and bf_time_i is smaller than the match difference\n",
    "            if (abs(img_time-bf_time) < match_diff) :\n",
    "                match = i + offset\n",
    "                match_diff = abs(img_time-bf_time)\n",
    "        \n",
    "    # add new data to the dataframe\n",
    "    transfer_cols = copy.copy(bf_cols)\n",
    "    transfer_cols.remove('%time')\n",
    "    #temp\n",
    "    print(\"Match: \" + j + \"to\" + match)\n",
    "    #temp\n",
    "    for column in transfer_cols:\n",
    "#         print(\"column from transfer column: \", column, \"row: \", j)\n",
    "        final.at[j, column] = base_feedback[column][match]\n",
    "            \n",
    "    #increment j and i\n",
    "    j = j + 1\n",
    "    i = match + 1\n",
    "        \n",
    "#may find final.at[index, column] useful\n",
    "        \n",
    "        \n",
    "    "
   ]
  },
  {
   "cell_type": "markdown",
   "id": "37d4e6ab",
   "metadata": {},
   "source": [
    "Phase 5"
   ]
  },
  {
   "cell_type": "code",
   "execution_count": 12,
   "id": "a0193f35-fa46-4728-bd8e-7d08461b215e",
   "metadata": {},
   "outputs": [
    {
     "name": "stdout",
     "output_type": "stream",
     "text": [
      "done\n"
     ]
    }
   ],
   "source": [
    "final_name = r'~/Desktop/'+ dataset +'final.csv'\n",
    "final.to_csv(final_name, index=False)\n",
    "print(\"done\")"
   ]
  },
  {
   "cell_type": "code",
   "execution_count": null,
   "id": "7840db3b",
   "metadata": {},
   "outputs": [],
   "source": []
  }
 ],
 "metadata": {
  "kernelspec": {
   "display_name": "Python 3",
   "language": "python",
   "name": "python3"
  },
  "language_info": {
   "codemirror_mode": {
    "name": "ipython",
    "version": 3
   },
   "file_extension": ".py",
   "mimetype": "text/x-python",
   "name": "python",
   "nbconvert_exporter": "python",
   "pygments_lexer": "ipython3",
   "version": "3.8.8"
  }
 },
 "nbformat": 4,
 "nbformat_minor": 5
}
